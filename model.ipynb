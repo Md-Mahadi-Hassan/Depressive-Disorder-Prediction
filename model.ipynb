{
 "cells": [
  {
   "cell_type": "markdown",
   "id": "79a1fcae-d9c1-4c34-9f85-edb71b0b13e4",
   "metadata": {},
   "source": [
    "# Depressive Disorder Prediction\n",
    "### <i> Logistic Regression Model </i>"
   ]
  },
  {
   "cell_type": "markdown",
   "id": "2eb35da8-5eb1-4698-bccf-331b0a4483e4",
   "metadata": {},
   "source": [
    "## Data Preprocessing\n",
    "The first step of building a model is to preprocess the obtained dataset that will be used for training and evaluating the model. This steps include importing the data, summarizing the data, finding the missing values, data imputation if there is any missing values. All of these steps produce an outcome dataset which is clean and ready for further procedures."
   ]
  },
  {
   "cell_type": "markdown",
   "id": "d3949fe2-2f32-45b2-bb86-41e08e916733",
   "metadata": {},
   "source": [
    "## Importing dependencies\r\n",
    "pandas is used for importing csv dataset into pandas dataframe, which can be manipulated, imputed and used as a structured dataframe in the python settings."
   ]
  },
  {
   "cell_type": "code",
   "execution_count": 2,
   "id": "b672f8d6-f2e0-4f1d-9299-7b5ad6247c33",
   "metadata": {},
   "outputs": [],
   "source": [
    "import pandas as pd"
   ]
  },
  {
   "cell_type": "markdown",
   "id": "e6981044-8241-4dc6-bf97-9f30e0502d2a",
   "metadata": {},
   "source": [
    "## Importing the csv file into python dataframe\n",
    "The dataset used for this model development is the cleaner version of BRFSS survey conducted by CDC, USA. The main dataset contains over 300 variables and many instances. A cleaned version of the dataset suitable for predicting heart disease is being used in this model building. The cleaner version is later modified to seve our purpose of developing a predictive model using risk factors of depressive disorders."
   ]
  },
  {
   "cell_type": "code",
   "execution_count": 3,
   "id": "b4de338d-28e4-4b5e-a239-a7ed5ff22568",
   "metadata": {},
   "outputs": [
    {
     "data": {
      "text/html": [
       "<div>\n",
       "<style scoped>\n",
       "    .dataframe tbody tr th:only-of-type {\n",
       "        vertical-align: middle;\n",
       "    }\n",
       "\n",
       "    .dataframe tbody tr th {\n",
       "        vertical-align: top;\n",
       "    }\n",
       "\n",
       "    .dataframe thead th {\n",
       "        text-align: right;\n",
       "    }\n",
       "</style>\n",
       "<table border=\"1\" class=\"dataframe\">\n",
       "  <thead>\n",
       "    <tr style=\"text-align: right;\">\n",
       "      <th></th>\n",
       "      <th>State</th>\n",
       "      <th>Sex</th>\n",
       "      <th>GeneralHealth</th>\n",
       "      <th>PhysicalHealthDays</th>\n",
       "      <th>MentalHealthDays</th>\n",
       "      <th>LastCheckupTime</th>\n",
       "      <th>PhysicalActivities</th>\n",
       "      <th>SleepHours</th>\n",
       "      <th>RemovedTeeth</th>\n",
       "      <th>HadHeartAttack</th>\n",
       "      <th>...</th>\n",
       "      <th>HeightInMeters</th>\n",
       "      <th>WeightInKilograms</th>\n",
       "      <th>BMI</th>\n",
       "      <th>AlcoholDrinkers</th>\n",
       "      <th>HIVTesting</th>\n",
       "      <th>FluVaxLast12</th>\n",
       "      <th>PneumoVaxEver</th>\n",
       "      <th>TetanusLast10Tdap</th>\n",
       "      <th>HighRiskLastYear</th>\n",
       "      <th>CovidPos</th>\n",
       "    </tr>\n",
       "  </thead>\n",
       "  <tbody>\n",
       "    <tr>\n",
       "      <th>0</th>\n",
       "      <td>Alabama</td>\n",
       "      <td>Female</td>\n",
       "      <td>Very good</td>\n",
       "      <td>4.0</td>\n",
       "      <td>0.0</td>\n",
       "      <td>Within past year (anytime less than 12 months ...</td>\n",
       "      <td>Yes</td>\n",
       "      <td>9.0</td>\n",
       "      <td>None of them</td>\n",
       "      <td>No</td>\n",
       "      <td>...</td>\n",
       "      <td>1.60</td>\n",
       "      <td>71.67</td>\n",
       "      <td>27.99</td>\n",
       "      <td>No</td>\n",
       "      <td>No</td>\n",
       "      <td>Yes</td>\n",
       "      <td>Yes</td>\n",
       "      <td>Yes, received Tdap</td>\n",
       "      <td>No</td>\n",
       "      <td>No</td>\n",
       "    </tr>\n",
       "    <tr>\n",
       "      <th>1</th>\n",
       "      <td>Alabama</td>\n",
       "      <td>Male</td>\n",
       "      <td>Very good</td>\n",
       "      <td>0.0</td>\n",
       "      <td>0.0</td>\n",
       "      <td>Within past year (anytime less than 12 months ...</td>\n",
       "      <td>Yes</td>\n",
       "      <td>6.0</td>\n",
       "      <td>None of them</td>\n",
       "      <td>No</td>\n",
       "      <td>...</td>\n",
       "      <td>1.78</td>\n",
       "      <td>95.25</td>\n",
       "      <td>30.13</td>\n",
       "      <td>No</td>\n",
       "      <td>No</td>\n",
       "      <td>Yes</td>\n",
       "      <td>Yes</td>\n",
       "      <td>Yes, received tetanus shot but not sure what type</td>\n",
       "      <td>No</td>\n",
       "      <td>No</td>\n",
       "    </tr>\n",
       "    <tr>\n",
       "      <th>2</th>\n",
       "      <td>Alabama</td>\n",
       "      <td>Male</td>\n",
       "      <td>Very good</td>\n",
       "      <td>0.0</td>\n",
       "      <td>0.0</td>\n",
       "      <td>Within past year (anytime less than 12 months ...</td>\n",
       "      <td>No</td>\n",
       "      <td>8.0</td>\n",
       "      <td>6 or more, but not all</td>\n",
       "      <td>No</td>\n",
       "      <td>...</td>\n",
       "      <td>1.85</td>\n",
       "      <td>108.86</td>\n",
       "      <td>31.66</td>\n",
       "      <td>Yes</td>\n",
       "      <td>No</td>\n",
       "      <td>No</td>\n",
       "      <td>Yes</td>\n",
       "      <td>No, did not receive any tetanus shot in the pa...</td>\n",
       "      <td>No</td>\n",
       "      <td>Yes</td>\n",
       "    </tr>\n",
       "    <tr>\n",
       "      <th>3</th>\n",
       "      <td>Alabama</td>\n",
       "      <td>Female</td>\n",
       "      <td>Fair</td>\n",
       "      <td>5.0</td>\n",
       "      <td>0.0</td>\n",
       "      <td>Within past year (anytime less than 12 months ...</td>\n",
       "      <td>Yes</td>\n",
       "      <td>9.0</td>\n",
       "      <td>None of them</td>\n",
       "      <td>No</td>\n",
       "      <td>...</td>\n",
       "      <td>1.70</td>\n",
       "      <td>90.72</td>\n",
       "      <td>31.32</td>\n",
       "      <td>No</td>\n",
       "      <td>No</td>\n",
       "      <td>Yes</td>\n",
       "      <td>Yes</td>\n",
       "      <td>No, did not receive any tetanus shot in the pa...</td>\n",
       "      <td>No</td>\n",
       "      <td>Yes</td>\n",
       "    </tr>\n",
       "    <tr>\n",
       "      <th>4</th>\n",
       "      <td>Alabama</td>\n",
       "      <td>Female</td>\n",
       "      <td>Good</td>\n",
       "      <td>3.0</td>\n",
       "      <td>15.0</td>\n",
       "      <td>Within past year (anytime less than 12 months ...</td>\n",
       "      <td>Yes</td>\n",
       "      <td>5.0</td>\n",
       "      <td>1 to 5</td>\n",
       "      <td>No</td>\n",
       "      <td>...</td>\n",
       "      <td>1.55</td>\n",
       "      <td>79.38</td>\n",
       "      <td>33.07</td>\n",
       "      <td>No</td>\n",
       "      <td>No</td>\n",
       "      <td>Yes</td>\n",
       "      <td>Yes</td>\n",
       "      <td>No, did not receive any tetanus shot in the pa...</td>\n",
       "      <td>No</td>\n",
       "      <td>No</td>\n",
       "    </tr>\n",
       "  </tbody>\n",
       "</table>\n",
       "<p>5 rows × 40 columns</p>\n",
       "</div>"
      ],
      "text/plain": [
       "     State     Sex GeneralHealth  PhysicalHealthDays  MentalHealthDays  \\\n",
       "0  Alabama  Female     Very good                 4.0               0.0   \n",
       "1  Alabama    Male     Very good                 0.0               0.0   \n",
       "2  Alabama    Male     Very good                 0.0               0.0   \n",
       "3  Alabama  Female          Fair                 5.0               0.0   \n",
       "4  Alabama  Female          Good                 3.0              15.0   \n",
       "\n",
       "                                     LastCheckupTime PhysicalActivities  \\\n",
       "0  Within past year (anytime less than 12 months ...                Yes   \n",
       "1  Within past year (anytime less than 12 months ...                Yes   \n",
       "2  Within past year (anytime less than 12 months ...                 No   \n",
       "3  Within past year (anytime less than 12 months ...                Yes   \n",
       "4  Within past year (anytime less than 12 months ...                Yes   \n",
       "\n",
       "   SleepHours            RemovedTeeth HadHeartAttack  ... HeightInMeters  \\\n",
       "0         9.0            None of them             No  ...           1.60   \n",
       "1         6.0            None of them             No  ...           1.78   \n",
       "2         8.0  6 or more, but not all             No  ...           1.85   \n",
       "3         9.0            None of them             No  ...           1.70   \n",
       "4         5.0                  1 to 5             No  ...           1.55   \n",
       "\n",
       "  WeightInKilograms    BMI AlcoholDrinkers HIVTesting FluVaxLast12  \\\n",
       "0             71.67  27.99              No         No          Yes   \n",
       "1             95.25  30.13              No         No          Yes   \n",
       "2            108.86  31.66             Yes         No           No   \n",
       "3             90.72  31.32              No         No          Yes   \n",
       "4             79.38  33.07              No         No          Yes   \n",
       "\n",
       "  PneumoVaxEver                                  TetanusLast10Tdap  \\\n",
       "0           Yes                                 Yes, received Tdap   \n",
       "1           Yes  Yes, received tetanus shot but not sure what type   \n",
       "2           Yes  No, did not receive any tetanus shot in the pa...   \n",
       "3           Yes  No, did not receive any tetanus shot in the pa...   \n",
       "4           Yes  No, did not receive any tetanus shot in the pa...   \n",
       "\n",
       "  HighRiskLastYear CovidPos  \n",
       "0               No       No  \n",
       "1               No       No  \n",
       "2               No      Yes  \n",
       "3               No      Yes  \n",
       "4               No       No  \n",
       "\n",
       "[5 rows x 40 columns]"
      ]
     },
     "execution_count": 3,
     "metadata": {},
     "output_type": "execute_result"
    }
   ],
   "source": [
    "df = pd.read_csv(\"heart_2022_no_nans.csv\")\n",
    "df.head() # Printing the first 5 rows of the dataframe"
   ]
  },
  {
   "cell_type": "code",
   "execution_count": 8,
   "id": "99cba29e-9656-4fa7-a535-bbcedd2be049",
   "metadata": {},
   "outputs": [
    {
     "name": "stdout",
     "output_type": "stream",
     "text": [
      "<class 'pandas.core.frame.DataFrame'>\n",
      "RangeIndex: 246022 entries, 0 to 246021\n",
      "Data columns (total 40 columns):\n",
      " #   Column                     Non-Null Count   Dtype  \n",
      "---  ------                     --------------   -----  \n",
      " 0   State                      246022 non-null  object \n",
      " 1   Sex                        246022 non-null  object \n",
      " 2   GeneralHealth              246022 non-null  object \n",
      " 3   PhysicalHealthDays         246022 non-null  float64\n",
      " 4   MentalHealthDays           246022 non-null  float64\n",
      " 5   LastCheckupTime            246022 non-null  object \n",
      " 6   PhysicalActivities         246022 non-null  object \n",
      " 7   SleepHours                 246022 non-null  float64\n",
      " 8   RemovedTeeth               246022 non-null  object \n",
      " 9   HadHeartAttack             246022 non-null  object \n",
      " 10  HadAngina                  246022 non-null  object \n",
      " 11  HadStroke                  246022 non-null  object \n",
      " 12  HadAsthma                  246022 non-null  object \n",
      " 13  HadSkinCancer              246022 non-null  object \n",
      " 14  HadCOPD                    246022 non-null  object \n",
      " 15  HadDepressiveDisorder      246022 non-null  object \n",
      " 16  HadKidneyDisease           246022 non-null  object \n",
      " 17  HadArthritis               246022 non-null  object \n",
      " 18  HadDiabetes                246022 non-null  object \n",
      " 19  DeafOrHardOfHearing        246022 non-null  object \n",
      " 20  BlindOrVisionDifficulty    246022 non-null  object \n",
      " 21  DifficultyConcentrating    246022 non-null  object \n",
      " 22  DifficultyWalking          246022 non-null  object \n",
      " 23  DifficultyDressingBathing  246022 non-null  object \n",
      " 24  DifficultyErrands          246022 non-null  object \n",
      " 25  SmokerStatus               246022 non-null  object \n",
      " 26  ECigaretteUsage            246022 non-null  object \n",
      " 27  ChestScan                  246022 non-null  object \n",
      " 28  RaceEthnicityCategory      246022 non-null  object \n",
      " 29  AgeCategory                246022 non-null  object \n",
      " 30  HeightInMeters             246022 non-null  float64\n",
      " 31  WeightInKilograms          246022 non-null  float64\n",
      " 32  BMI                        246022 non-null  float64\n",
      " 33  AlcoholDrinkers            246022 non-null  object \n",
      " 34  HIVTesting                 246022 non-null  object \n",
      " 35  FluVaxLast12               246022 non-null  object \n",
      " 36  PneumoVaxEver              246022 non-null  object \n",
      " 37  TetanusLast10Tdap          246022 non-null  object \n",
      " 38  HighRiskLastYear           246022 non-null  object \n",
      " 39  CovidPos                   246022 non-null  object \n",
      "dtypes: float64(6), object(34)\n",
      "memory usage: 75.1+ MB\n"
     ]
    }
   ],
   "source": [
    "df.info()"
   ]
  },
  {
   "cell_type": "code",
   "execution_count": 12,
   "id": "85546554-09a4-4bb6-a4c8-8165171b3513",
   "metadata": {},
   "outputs": [
    {
     "data": {
      "text/plain": [
       "Index(['State', 'Sex', 'GeneralHealth', 'PhysicalHealthDays',\n",
       "       'MentalHealthDays', 'LastCheckupTime', 'PhysicalActivities',\n",
       "       'SleepHours', 'RemovedTeeth', 'HadHeartAttack', 'HadAngina',\n",
       "       'HadStroke', 'HadAsthma', 'HadSkinCancer', 'HadCOPD',\n",
       "       'HadDepressiveDisorder', 'HadKidneyDisease', 'HadArthritis',\n",
       "       'HadDiabetes', 'DeafOrHardOfHearing', 'BlindOrVisionDifficulty',\n",
       "       'DifficultyConcentrating', 'DifficultyWalking',\n",
       "       'DifficultyDressingBathing', 'DifficultyErrands', 'SmokerStatus',\n",
       "       'ECigaretteUsage', 'ChestScan', 'RaceEthnicityCategory', 'AgeCategory',\n",
       "       'HeightInMeters', 'WeightInKilograms', 'BMI', 'AlcoholDrinkers',\n",
       "       'HIVTesting', 'FluVaxLast12', 'PneumoVaxEver', 'TetanusLast10Tdap',\n",
       "       'HighRiskLastYear', 'CovidPos'],\n",
       "      dtype='object')"
      ]
     },
     "execution_count": 12,
     "metadata": {},
     "output_type": "execute_result"
    }
   ],
   "source": [
    "df.columns # Viewing the column names"
   ]
  },
  {
   "cell_type": "markdown",
   "id": "4ad70b87-70f2-4ee1-bfc9-6be0c2416680",
   "metadata": {},
   "source": [
    "## Selecting Features\n",
    "Only the features seemed to be relevant for model building will be selected and the variables deemed to be not useful for model building will be droped."
   ]
  },
  {
   "cell_type": "code",
   "execution_count": 13,
   "id": "7f74216a-eb9f-4b24-8512-189aebeb3e74",
   "metadata": {},
   "outputs": [],
   "source": [
    "# Dropping columns\n",
    "# State, PhysicalHealthDays, MentalHealthDays, LastCheckupTime, RemovedTeeth, DeafOrHardOfHearing, BlindOrVisionDifficulty,\n",
    "# DifficultyConcentrating, DifficultyWalking, DifficultyDressingBathing, DifficultyErrands, FluVaxLast12, PneumoVaxEver, TetanusLast10Tdap,\n",
    "# HighRiskLastYear"
   ]
  },
  {
   "cell_type": "code",
   "execution_count": 43,
   "id": "f88cfe99-6e88-4168-9880-51041af6d7b8",
   "metadata": {},
   "outputs": [
    {
     "data": {
      "text/html": [
       "<div>\n",
       "<style scoped>\n",
       "    .dataframe tbody tr th:only-of-type {\n",
       "        vertical-align: middle;\n",
       "    }\n",
       "\n",
       "    .dataframe tbody tr th {\n",
       "        vertical-align: top;\n",
       "    }\n",
       "\n",
       "    .dataframe thead th {\n",
       "        text-align: right;\n",
       "    }\n",
       "</style>\n",
       "<table border=\"1\" class=\"dataframe\">\n",
       "  <thead>\n",
       "    <tr style=\"text-align: right;\">\n",
       "      <th></th>\n",
       "      <th>Sex</th>\n",
       "      <th>GeneralHealth</th>\n",
       "      <th>PhysicalActivities</th>\n",
       "      <th>SleepHours</th>\n",
       "      <th>HadHeartAttack</th>\n",
       "      <th>HadAngina</th>\n",
       "      <th>HadStroke</th>\n",
       "      <th>HadAsthma</th>\n",
       "      <th>HadSkinCancer</th>\n",
       "      <th>HadCOPD</th>\n",
       "      <th>...</th>\n",
       "      <th>ECigaretteUsage</th>\n",
       "      <th>ChestScan</th>\n",
       "      <th>RaceEthnicityCategory</th>\n",
       "      <th>AgeCategory</th>\n",
       "      <th>HeightInMeters</th>\n",
       "      <th>WeightInKilograms</th>\n",
       "      <th>BMI</th>\n",
       "      <th>AlcoholDrinkers</th>\n",
       "      <th>HIVTesting</th>\n",
       "      <th>CovidPos</th>\n",
       "    </tr>\n",
       "  </thead>\n",
       "  <tbody>\n",
       "    <tr>\n",
       "      <th>0</th>\n",
       "      <td>Female</td>\n",
       "      <td>Very good</td>\n",
       "      <td>Yes</td>\n",
       "      <td>9.0</td>\n",
       "      <td>No</td>\n",
       "      <td>No</td>\n",
       "      <td>No</td>\n",
       "      <td>No</td>\n",
       "      <td>No</td>\n",
       "      <td>No</td>\n",
       "      <td>...</td>\n",
       "      <td>Never used e-cigarettes in my entire life</td>\n",
       "      <td>No</td>\n",
       "      <td>White only, Non-Hispanic</td>\n",
       "      <td>Age 65 to 69</td>\n",
       "      <td>1.60</td>\n",
       "      <td>71.67</td>\n",
       "      <td>27.99</td>\n",
       "      <td>No</td>\n",
       "      <td>No</td>\n",
       "      <td>No</td>\n",
       "    </tr>\n",
       "    <tr>\n",
       "      <th>1</th>\n",
       "      <td>Male</td>\n",
       "      <td>Very good</td>\n",
       "      <td>Yes</td>\n",
       "      <td>6.0</td>\n",
       "      <td>No</td>\n",
       "      <td>No</td>\n",
       "      <td>No</td>\n",
       "      <td>No</td>\n",
       "      <td>No</td>\n",
       "      <td>No</td>\n",
       "      <td>...</td>\n",
       "      <td>Never used e-cigarettes in my entire life</td>\n",
       "      <td>No</td>\n",
       "      <td>White only, Non-Hispanic</td>\n",
       "      <td>Age 70 to 74</td>\n",
       "      <td>1.78</td>\n",
       "      <td>95.25</td>\n",
       "      <td>30.13</td>\n",
       "      <td>No</td>\n",
       "      <td>No</td>\n",
       "      <td>No</td>\n",
       "    </tr>\n",
       "    <tr>\n",
       "      <th>2</th>\n",
       "      <td>Male</td>\n",
       "      <td>Very good</td>\n",
       "      <td>No</td>\n",
       "      <td>8.0</td>\n",
       "      <td>No</td>\n",
       "      <td>No</td>\n",
       "      <td>No</td>\n",
       "      <td>No</td>\n",
       "      <td>No</td>\n",
       "      <td>No</td>\n",
       "      <td>...</td>\n",
       "      <td>Never used e-cigarettes in my entire life</td>\n",
       "      <td>Yes</td>\n",
       "      <td>White only, Non-Hispanic</td>\n",
       "      <td>Age 75 to 79</td>\n",
       "      <td>1.85</td>\n",
       "      <td>108.86</td>\n",
       "      <td>31.66</td>\n",
       "      <td>Yes</td>\n",
       "      <td>No</td>\n",
       "      <td>Yes</td>\n",
       "    </tr>\n",
       "    <tr>\n",
       "      <th>3</th>\n",
       "      <td>Female</td>\n",
       "      <td>Fair</td>\n",
       "      <td>Yes</td>\n",
       "      <td>9.0</td>\n",
       "      <td>No</td>\n",
       "      <td>No</td>\n",
       "      <td>No</td>\n",
       "      <td>No</td>\n",
       "      <td>Yes</td>\n",
       "      <td>No</td>\n",
       "      <td>...</td>\n",
       "      <td>Never used e-cigarettes in my entire life</td>\n",
       "      <td>No</td>\n",
       "      <td>White only, Non-Hispanic</td>\n",
       "      <td>Age 80 or older</td>\n",
       "      <td>1.70</td>\n",
       "      <td>90.72</td>\n",
       "      <td>31.32</td>\n",
       "      <td>No</td>\n",
       "      <td>No</td>\n",
       "      <td>Yes</td>\n",
       "    </tr>\n",
       "    <tr>\n",
       "      <th>4</th>\n",
       "      <td>Female</td>\n",
       "      <td>Good</td>\n",
       "      <td>Yes</td>\n",
       "      <td>5.0</td>\n",
       "      <td>No</td>\n",
       "      <td>No</td>\n",
       "      <td>No</td>\n",
       "      <td>No</td>\n",
       "      <td>No</td>\n",
       "      <td>No</td>\n",
       "      <td>...</td>\n",
       "      <td>Never used e-cigarettes in my entire life</td>\n",
       "      <td>No</td>\n",
       "      <td>White only, Non-Hispanic</td>\n",
       "      <td>Age 80 or older</td>\n",
       "      <td>1.55</td>\n",
       "      <td>79.38</td>\n",
       "      <td>33.07</td>\n",
       "      <td>No</td>\n",
       "      <td>No</td>\n",
       "      <td>No</td>\n",
       "    </tr>\n",
       "  </tbody>\n",
       "</table>\n",
       "<p>5 rows × 25 columns</p>\n",
       "</div>"
      ],
      "text/plain": [
       "      Sex GeneralHealth PhysicalActivities  SleepHours HadHeartAttack  \\\n",
       "0  Female     Very good                Yes         9.0             No   \n",
       "1    Male     Very good                Yes         6.0             No   \n",
       "2    Male     Very good                 No         8.0             No   \n",
       "3  Female          Fair                Yes         9.0             No   \n",
       "4  Female          Good                Yes         5.0             No   \n",
       "\n",
       "  HadAngina HadStroke HadAsthma HadSkinCancer HadCOPD  ...  \\\n",
       "0        No        No        No            No      No  ...   \n",
       "1        No        No        No            No      No  ...   \n",
       "2        No        No        No            No      No  ...   \n",
       "3        No        No        No           Yes      No  ...   \n",
       "4        No        No        No            No      No  ...   \n",
       "\n",
       "                             ECigaretteUsage ChestScan  \\\n",
       "0  Never used e-cigarettes in my entire life        No   \n",
       "1  Never used e-cigarettes in my entire life        No   \n",
       "2  Never used e-cigarettes in my entire life       Yes   \n",
       "3  Never used e-cigarettes in my entire life        No   \n",
       "4  Never used e-cigarettes in my entire life        No   \n",
       "\n",
       "      RaceEthnicityCategory      AgeCategory HeightInMeters WeightInKilograms  \\\n",
       "0  White only, Non-Hispanic     Age 65 to 69           1.60             71.67   \n",
       "1  White only, Non-Hispanic     Age 70 to 74           1.78             95.25   \n",
       "2  White only, Non-Hispanic     Age 75 to 79           1.85            108.86   \n",
       "3  White only, Non-Hispanic  Age 80 or older           1.70             90.72   \n",
       "4  White only, Non-Hispanic  Age 80 or older           1.55             79.38   \n",
       "\n",
       "     BMI AlcoholDrinkers HIVTesting  CovidPos  \n",
       "0  27.99              No         No        No  \n",
       "1  30.13              No         No        No  \n",
       "2  31.66             Yes         No       Yes  \n",
       "3  31.32              No         No       Yes  \n",
       "4  33.07              No         No        No  \n",
       "\n",
       "[5 rows x 25 columns]"
      ]
     },
     "execution_count": 43,
     "metadata": {},
     "output_type": "execute_result"
    }
   ],
   "source": [
    "# Columns to drop\n",
    "columns_to_drop = ['State', 'PhysicalHealthDays', 'MentalHealthDays', 'LastCheckupTime', 'RemovedTeeth', 'DeafOrHardOfHearing',\n",
    "                   'BlindOrVisionDifficulty','DifficultyConcentrating', 'DifficultyWalking', 'DifficultyDressingBathing',\n",
    "                   'DifficultyErrands', 'FluVaxLast12', 'PneumoVaxEver', 'TetanusLast10Tdap',\n",
    "                   'HighRiskLastYear']\n",
    "\n",
    "# Drop columns\n",
    "data = df.drop(columns=columns_to_drop, axis=1)\n",
    "\n",
    "data.head()"
   ]
  },
  {
   "cell_type": "code",
   "execution_count": 44,
   "id": "6d81c150-3057-481c-9fc4-26f6c6e03ee0",
   "metadata": {},
   "outputs": [
    {
     "data": {
      "text/plain": [
       "Index(['Sex', 'GeneralHealth', 'PhysicalActivities', 'SleepHours',\n",
       "       'HadHeartAttack', 'HadAngina', 'HadStroke', 'HadAsthma',\n",
       "       'HadSkinCancer', 'HadCOPD', 'HadDepressiveDisorder', 'HadKidneyDisease',\n",
       "       'HadArthritis', 'HadDiabetes', 'SmokerStatus', 'ECigaretteUsage',\n",
       "       'ChestScan', 'RaceEthnicityCategory', 'AgeCategory', 'HeightInMeters',\n",
       "       'WeightInKilograms', 'BMI', 'AlcoholDrinkers', 'HIVTesting',\n",
       "       'CovidPos'],\n",
       "      dtype='object')"
      ]
     },
     "execution_count": 44,
     "metadata": {},
     "output_type": "execute_result"
    }
   ],
   "source": [
    "data.columns"
   ]
  },
  {
   "cell_type": "code",
   "execution_count": 45,
   "id": "27712a97-f3f1-48f3-bf69-3509af9f38dd",
   "metadata": {},
   "outputs": [
    {
     "data": {
      "text/plain": [
       "(246022, 25)"
      ]
     },
     "execution_count": 45,
     "metadata": {},
     "output_type": "execute_result"
    }
   ],
   "source": [
    "data.shape"
   ]
  },
  {
   "cell_type": "code",
   "execution_count": 47,
   "id": "44fbdf77-ab80-43fa-bc22-0456edec7013",
   "metadata": {},
   "outputs": [
    {
     "name": "stdout",
     "output_type": "stream",
     "text": [
      "<class 'pandas.core.frame.DataFrame'>\n",
      "RangeIndex: 246022 entries, 0 to 246021\n",
      "Data columns (total 25 columns):\n",
      " #   Column                 Non-Null Count   Dtype  \n",
      "---  ------                 --------------   -----  \n",
      " 0   Sex                    246022 non-null  object \n",
      " 1   GeneralHealth          246022 non-null  object \n",
      " 2   PhysicalActivities     246022 non-null  object \n",
      " 3   SleepHours             246022 non-null  float64\n",
      " 4   HadHeartAttack         246022 non-null  object \n",
      " 5   HadAngina              246022 non-null  object \n",
      " 6   HadStroke              246022 non-null  object \n",
      " 7   HadAsthma              246022 non-null  object \n",
      " 8   HadSkinCancer          246022 non-null  object \n",
      " 9   HadCOPD                246022 non-null  object \n",
      " 10  HadDepressiveDisorder  246022 non-null  object \n",
      " 11  HadKidneyDisease       246022 non-null  object \n",
      " 12  HadArthritis           246022 non-null  object \n",
      " 13  HadDiabetes            246022 non-null  object \n",
      " 14  SmokerStatus           246022 non-null  object \n",
      " 15  ECigaretteUsage        246022 non-null  object \n",
      " 16  ChestScan              246022 non-null  object \n",
      " 17  RaceEthnicityCategory  246022 non-null  object \n",
      " 18  AgeCategory            246022 non-null  object \n",
      " 19  HeightInMeters         246022 non-null  float64\n",
      " 20  WeightInKilograms      246022 non-null  float64\n",
      " 21  BMI                    246022 non-null  float64\n",
      " 22  AlcoholDrinkers        246022 non-null  object \n",
      " 23  HIVTesting             246022 non-null  object \n",
      " 24  CovidPos               246022 non-null  object \n",
      "dtypes: float64(4), object(21)\n",
      "memory usage: 46.9+ MB\n"
     ]
    }
   ],
   "source": [
    "data.info()"
   ]
  },
  {
   "cell_type": "code",
   "execution_count": null,
   "id": "f07fbcdf-e3fd-461b-9f99-0ea4bb4fe050",
   "metadata": {},
   "outputs": [],
   "source": [
    "# Coding the 'Sex' column: Here Male = 1 and Female = 0\n",
    "\n",
    "data.Sex = [1 if value == \"Male\" else 0 for value in data.Sex]\n",
    "\n",
    "#Coding the 'GeneralHealth' column: \n",
    "\n",
    "# Define a dictionary to map categories to numerical values\n",
    "category_mapping = {'Poor': 0, 'Good': 1, 'Fair': 2, 'Very good': 3, 'Excellent': 4}\n",
    "# Use the map function to apply the mapping to the column\n",
    "data.GeneralHealth = data.GeneralHealth.map(category_mapping)"
   ]
  },
  {
   "cell_type": "code",
   "execution_count": 49,
   "id": "8cf67b61-106c-4192-9824-d8d5f11828d0",
   "metadata": {},
   "outputs": [],
   "source": [
    "# Coding the 'PhysicalActivities' column:\n",
    "data.PhysicalActivities = [1 if value == \"Yes\" else 0 for value in data.PhysicalActivities]\n",
    "# Coding the 'HadHeartAttack' column:\n",
    "data.HadHeartAttack = [1 if value == \"Yes\" else 0 for value in data.HadHeartAttack]\n",
    "\n",
    "data.HadAngina = [1 if value == \"Yes\" else 0 for value in data.HadAngina]\n",
    "\n",
    "data.HadStroke = [1 if value == \"Yes\" else 0 for value in data.HadStroke]\n",
    "\n",
    "data.HadAsthma = [1 if value == \"Yes\" else 0 for value in data.HadAsthma]\n",
    "\n",
    "data.HadSkinCancer = [1 if value == \"Yes\" else 0 for value in data.HadSkinCancer]\n",
    "\n",
    "data.HadCOPD = [1 if value == \"Yes\" else 0 for value in data.HadCOPD]\n",
    "\n",
    "data.HadDepressiveDisorder = [1 if value == \"Yes\" else 0 for value in data.HadDepressiveDisorder]\n",
    "\n",
    "data.HadKidneyDisease = [1 if value == \"Yes\" else 0 for value in data.HadKidneyDisease]\n",
    "\n",
    "data.HadArthritis = [1 if value == \"Yes\" else 0 for value in data.HadArthritis]"
   ]
  },
  {
   "cell_type": "code",
   "execution_count": 54,
   "id": "afcef35b-97cc-464d-b5d5-42e1a26e20ea",
   "metadata": {},
   "outputs": [],
   "source": [
    "# Coding the HadDiabetes column\n",
    "# Define a dictionary to map categories to numerical values\n",
    "category_mapping = {'No': 0, 'Yes': 1, 'Yes, but only during pregnancy (female)': 2, 'Very good': 3, 'No, pre-diabetes or borderline diabetes': 0}\n",
    "# Use the map function to apply the mapping to the column\n",
    "data.HadDiabetes = data.HadDiabetes.map(category_mapping)"
   ]
  },
  {
   "cell_type": "code",
   "execution_count": 58,
   "id": "c9e26f19-7747-42cb-9850-eb637bb75d43",
   "metadata": {},
   "outputs": [],
   "source": [
    "# Coding the SmokerStatus column\n",
    "# Define a dictionary to map categories to numerical values\n",
    "category_mapping = {'Never smoked': 0, 'Former smoker': 1, 'Current smoker - now smokes some days': 2, 'Current smoker - now smokes every day': 3}\n",
    "# Use the map function to apply the mapping to the column\n",
    "data.SmokerStatus = data.SmokerStatus.map(category_mapping)"
   ]
  },
  {
   "cell_type": "code",
   "execution_count": 62,
   "id": "30840444-f680-4ed9-b926-b7418fed208f",
   "metadata": {},
   "outputs": [],
   "source": [
    "# Coding the ECigaretteUsage column\n",
    "# Define a dictionary to map categories to numerical values\n",
    "category_mapping = {'Never used e-cigarettes in my entire life': 0, 'Not at all (right now)': 1, 'Use them some days': 2, 'Use them every day': 3}\n",
    "# Use the map function to apply the mapping to the column\n",
    "data.ECigaretteUsage = data.ECigaretteUsage.map(category_mapping)"
   ]
  },
  {
   "cell_type": "code",
   "execution_count": 65,
   "id": "12f8122a-4bf0-488f-8545-f05ea85845db",
   "metadata": {},
   "outputs": [],
   "source": [
    "data.ChestScan = [1 if value == \"Yes\" else 0 for value in data.ChestScan]"
   ]
  },
  {
   "cell_type": "code",
   "execution_count": 69,
   "id": "4182beb9-bb4d-4fd1-a3b0-2853cee28f95",
   "metadata": {},
   "outputs": [],
   "source": [
    "# Coidng the AgeCategory column: Using the array\n",
    "# Define categories and their numerical values in a list\n",
    "categories = ['Age 65 to 69', 'Age 70 to 74', 'Age 75 to 79', 'Age 80 or older', 'Age 50 to 54', 'Age 40 to 44', 'Age 60 to 64', 'Age 55 to 59',\n",
    "              'Age 45 to 49', 'Age 35 to 39', 'Age 25 to 29', 'Age 30 to 34', 'Age 18 to 24']\n",
    "numerical_values = [0,1,2,3,4,5,6,7,8,9,10,11,12]\n",
    "\n",
    "# Create a dictionary mapping categories to numerical values\n",
    "category_mapping = dict(zip(categories, numerical_values))\n",
    "\n",
    "# Use the map function to apply the mapping to the column\n",
    "data['AgeCategory'] = data['AgeCategory'].map(category_mapping)"
   ]
  },
  {
   "cell_type": "code",
   "execution_count": 72,
   "id": "e74ccbdc-0e39-4448-b673-de3e2f6fbc9e",
   "metadata": {},
   "outputs": [],
   "source": [
    "# Coidng the AgeCategory column: Using the array\n",
    "# Define categories and their numerical values in a list\n",
    "categories = ['White only, Non-Hispanic', 'Black only, Non-Hispanic', 'Other race only, Non-Hispanic', 'Multiracial, Non-Hispanic', 'Hispanic']\n",
    "numerical_values = [0,1,2,3,4]\n",
    "\n",
    "# Create a dictionary mapping categories to numerical values\n",
    "category_mapping = dict(zip(categories, numerical_values))\n",
    "\n",
    "# Use the map function to apply the mapping to the column\n",
    "data['RaceEthnicityCategory'] = data['RaceEthnicityCategory'].map(category_mapping)"
   ]
  },
  {
   "cell_type": "code",
   "execution_count": 77,
   "id": "cc9984df-75a8-4638-912c-5aff3b302407",
   "metadata": {},
   "outputs": [],
   "source": [
    "data.AlcoholDrinkers = [1 if value == \"Yes\" else 0 for value in data.AlcoholDrinkers]"
   ]
  },
  {
   "cell_type": "code",
   "execution_count": 79,
   "id": "149f4657-aea9-459e-8fde-a14ccb7b5bb1",
   "metadata": {},
   "outputs": [],
   "source": [
    "data.HIVTesting = [1 if value == \"Yes\" else 0 for value in data.HIVTesting]"
   ]
  },
  {
   "cell_type": "code",
   "execution_count": 81,
   "id": "c87f5034-d740-45ae-a64f-818d5c11990e",
   "metadata": {},
   "outputs": [],
   "source": [
    "data.CovidPos = [1 if value == \"Yes\" else 0 for value in data.CovidPos]"
   ]
  },
  {
   "cell_type": "code",
   "execution_count": 87,
   "id": "0fd53ad5-3c69-4322-9375-aa6eb387ec61",
   "metadata": {},
   "outputs": [
    {
     "data": {
      "text/html": [
       "<div>\n",
       "<style scoped>\n",
       "    .dataframe tbody tr th:only-of-type {\n",
       "        vertical-align: middle;\n",
       "    }\n",
       "\n",
       "    .dataframe tbody tr th {\n",
       "        vertical-align: top;\n",
       "    }\n",
       "\n",
       "    .dataframe thead th {\n",
       "        text-align: right;\n",
       "    }\n",
       "</style>\n",
       "<table border=\"1\" class=\"dataframe\">\n",
       "  <thead>\n",
       "    <tr style=\"text-align: right;\">\n",
       "      <th></th>\n",
       "      <th>Sex</th>\n",
       "      <th>GeneralHealth</th>\n",
       "      <th>PhysicalActivities</th>\n",
       "      <th>SleepHours</th>\n",
       "      <th>HadHeartAttack</th>\n",
       "      <th>HadAngina</th>\n",
       "      <th>HadStroke</th>\n",
       "      <th>HadAsthma</th>\n",
       "      <th>HadSkinCancer</th>\n",
       "      <th>HadCOPD</th>\n",
       "      <th>...</th>\n",
       "      <th>ECigaretteUsage</th>\n",
       "      <th>ChestScan</th>\n",
       "      <th>RaceEthnicityCategory</th>\n",
       "      <th>AgeCategory</th>\n",
       "      <th>HeightInMeters</th>\n",
       "      <th>WeightInKilograms</th>\n",
       "      <th>BMI</th>\n",
       "      <th>AlcoholDrinkers</th>\n",
       "      <th>HIVTesting</th>\n",
       "      <th>CovidPos</th>\n",
       "    </tr>\n",
       "  </thead>\n",
       "  <tbody>\n",
       "    <tr>\n",
       "      <th>0</th>\n",
       "      <td>0</td>\n",
       "      <td>3</td>\n",
       "      <td>1</td>\n",
       "      <td>9.0</td>\n",
       "      <td>0</td>\n",
       "      <td>0</td>\n",
       "      <td>0</td>\n",
       "      <td>0</td>\n",
       "      <td>0</td>\n",
       "      <td>0</td>\n",
       "      <td>...</td>\n",
       "      <td>0</td>\n",
       "      <td>0</td>\n",
       "      <td>0</td>\n",
       "      <td>0</td>\n",
       "      <td>1.60</td>\n",
       "      <td>71.67</td>\n",
       "      <td>27.99</td>\n",
       "      <td>0</td>\n",
       "      <td>0</td>\n",
       "      <td>0</td>\n",
       "    </tr>\n",
       "    <tr>\n",
       "      <th>1</th>\n",
       "      <td>1</td>\n",
       "      <td>3</td>\n",
       "      <td>1</td>\n",
       "      <td>6.0</td>\n",
       "      <td>0</td>\n",
       "      <td>0</td>\n",
       "      <td>0</td>\n",
       "      <td>0</td>\n",
       "      <td>0</td>\n",
       "      <td>0</td>\n",
       "      <td>...</td>\n",
       "      <td>0</td>\n",
       "      <td>0</td>\n",
       "      <td>0</td>\n",
       "      <td>1</td>\n",
       "      <td>1.78</td>\n",
       "      <td>95.25</td>\n",
       "      <td>30.13</td>\n",
       "      <td>0</td>\n",
       "      <td>0</td>\n",
       "      <td>0</td>\n",
       "    </tr>\n",
       "    <tr>\n",
       "      <th>2</th>\n",
       "      <td>1</td>\n",
       "      <td>3</td>\n",
       "      <td>0</td>\n",
       "      <td>8.0</td>\n",
       "      <td>0</td>\n",
       "      <td>0</td>\n",
       "      <td>0</td>\n",
       "      <td>0</td>\n",
       "      <td>0</td>\n",
       "      <td>0</td>\n",
       "      <td>...</td>\n",
       "      <td>0</td>\n",
       "      <td>1</td>\n",
       "      <td>0</td>\n",
       "      <td>2</td>\n",
       "      <td>1.85</td>\n",
       "      <td>108.86</td>\n",
       "      <td>31.66</td>\n",
       "      <td>1</td>\n",
       "      <td>0</td>\n",
       "      <td>1</td>\n",
       "    </tr>\n",
       "    <tr>\n",
       "      <th>3</th>\n",
       "      <td>0</td>\n",
       "      <td>2</td>\n",
       "      <td>1</td>\n",
       "      <td>9.0</td>\n",
       "      <td>0</td>\n",
       "      <td>0</td>\n",
       "      <td>0</td>\n",
       "      <td>0</td>\n",
       "      <td>1</td>\n",
       "      <td>0</td>\n",
       "      <td>...</td>\n",
       "      <td>0</td>\n",
       "      <td>0</td>\n",
       "      <td>0</td>\n",
       "      <td>3</td>\n",
       "      <td>1.70</td>\n",
       "      <td>90.72</td>\n",
       "      <td>31.32</td>\n",
       "      <td>0</td>\n",
       "      <td>0</td>\n",
       "      <td>1</td>\n",
       "    </tr>\n",
       "    <tr>\n",
       "      <th>4</th>\n",
       "      <td>0</td>\n",
       "      <td>1</td>\n",
       "      <td>1</td>\n",
       "      <td>5.0</td>\n",
       "      <td>0</td>\n",
       "      <td>0</td>\n",
       "      <td>0</td>\n",
       "      <td>0</td>\n",
       "      <td>0</td>\n",
       "      <td>0</td>\n",
       "      <td>...</td>\n",
       "      <td>0</td>\n",
       "      <td>0</td>\n",
       "      <td>0</td>\n",
       "      <td>3</td>\n",
       "      <td>1.55</td>\n",
       "      <td>79.38</td>\n",
       "      <td>33.07</td>\n",
       "      <td>0</td>\n",
       "      <td>0</td>\n",
       "      <td>0</td>\n",
       "    </tr>\n",
       "  </tbody>\n",
       "</table>\n",
       "<p>5 rows × 25 columns</p>\n",
       "</div>"
      ],
      "text/plain": [
       "  Sex GeneralHealth PhysicalActivities  SleepHours HadHeartAttack HadAngina  \\\n",
       "0   0             3                  1         9.0              0         0   \n",
       "1   1             3                  1         6.0              0         0   \n",
       "2   1             3                  0         8.0              0         0   \n",
       "3   0             2                  1         9.0              0         0   \n",
       "4   0             1                  1         5.0              0         0   \n",
       "\n",
       "  HadStroke HadAsthma HadSkinCancer HadCOPD  ... ECigaretteUsage ChestScan  \\\n",
       "0         0         0             0       0  ...               0         0   \n",
       "1         0         0             0       0  ...               0         0   \n",
       "2         0         0             0       0  ...               0         1   \n",
       "3         0         0             1       0  ...               0         0   \n",
       "4         0         0             0       0  ...               0         0   \n",
       "\n",
       "  RaceEthnicityCategory AgeCategory HeightInMeters WeightInKilograms    BMI  \\\n",
       "0                     0           0           1.60             71.67  27.99   \n",
       "1                     0           1           1.78             95.25  30.13   \n",
       "2                     0           2           1.85            108.86  31.66   \n",
       "3                     0           3           1.70             90.72  31.32   \n",
       "4                     0           3           1.55             79.38  33.07   \n",
       "\n",
       "  AlcoholDrinkers HIVTesting  CovidPos  \n",
       "0               0          0         0  \n",
       "1               0          0         0  \n",
       "2               1          0         1  \n",
       "3               0          0         1  \n",
       "4               0          0         0  \n",
       "\n",
       "[5 rows x 25 columns]"
      ]
     },
     "execution_count": 87,
     "metadata": {},
     "output_type": "execute_result"
    }
   ],
   "source": [
    "data.head()"
   ]
  },
  {
   "cell_type": "code",
   "execution_count": 85,
   "id": "08095b77-6936-4952-9d83-2f665dbce886",
   "metadata": {},
   "outputs": [
    {
     "name": "stdout",
     "output_type": "stream",
     "text": [
      "Sex                      category\n",
      "GeneralHealth            category\n",
      "PhysicalActivities       category\n",
      "SleepHours                float64\n",
      "HadHeartAttack           category\n",
      "HadAngina                category\n",
      "HadStroke                category\n",
      "HadAsthma                category\n",
      "HadSkinCancer            category\n",
      "HadCOPD                  category\n",
      "HadDepressiveDisorder    category\n",
      "HadKidneyDisease         category\n",
      "HadArthritis             category\n",
      "HadDiabetes              category\n",
      "SmokerStatus             category\n",
      "ECigaretteUsage          category\n",
      "ChestScan                category\n",
      "RaceEthnicityCategory    category\n",
      "AgeCategory              category\n",
      "HeightInMeters            float64\n",
      "WeightInKilograms         float64\n",
      "BMI                       float64\n",
      "AlcoholDrinkers          category\n",
      "HIVTesting               category\n",
      "CovidPos                 category\n",
      "dtype: object\n"
     ]
    }
   ],
   "source": [
    "# Specify columns to change to categorical type\n",
    "columns_to_convert = ['Sex', 'GeneralHealth', 'PhysicalActivities', 'HadHeartAttack', 'HadAngina', 'HadStroke', 'HadAsthma','HadSkinCancer',\n",
    "                       'HadCOPD', 'HadDepressiveDisorder', 'HadKidneyDisease', 'HadArthritis', 'HadDiabetes', 'SmokerStatus', 'ECigaretteUsage', 'ChestScan',\n",
    "                       'RaceEthnicityCategory', 'AgeCategory', 'AlcoholDrinkers', 'HIVTesting', 'CovidPos']\n",
    "\n",
    "# Use astype method to change data types\n",
    "data[columns_to_convert] = data[columns_to_convert].astype('category')\n",
    "\n",
    "# Display the DataFrame after data type conversion\n",
    "print(data.dtypes)"
   ]
  },
  {
   "cell_type": "code",
   "execution_count": 113,
   "id": "5e8266e3-837a-4a61-abde-c2618925f345",
   "metadata": {},
   "outputs": [
    {
     "data": {
      "text/plain": [
       "<Axes: xlabel='HadDepressiveDisorder'>"
      ]
     },
     "execution_count": 113,
     "metadata": {},
     "output_type": "execute_result"
    },
    {
     "data": {
      "image/png": "[encoded data removed]",
      "text/plain": [
       "<Figure size 640x480 with 1 Axes>"
      ]
     },
     "metadata": {},
     "output_type": "display_data"
    }
   ],
   "source": [
    "data[\"HadDepressiveDisorder\"].value_counts().plot(kind = \"bar\") # Bar plot to see the distribution of the categories"
   ]
  },
  {
   "cell_type": "markdown",
   "id": "6750ae32-cb46-46e4-8bc2-304d91f5f5fd",
   "metadata": {},
   "source": [
    "## Data Preprocessing\n",
    "The final dataset is divided into features (what we will use to predict the value of the predictors) as X and target (the variable we will try to predict using the model) as y."
   ]
  },
  {
   "cell_type": "code",
   "execution_count": 114,
   "id": "ef42b501-cd55-4feb-9902-335f44256fc7",
   "metadata": {},
   "outputs": [],
   "source": [
    "X = data.drop(['HadDepressiveDisorder'], axis = 1)\n",
    "y = data['HadDepressiveDisorder']"
   ]
  },
  {
   "cell_type": "code",
   "execution_count": 115,
   "id": "b246eeb1-c8aa-4c04-94cb-4de368d14f97",
   "metadata": {},
   "outputs": [
    {
     "data": {
      "text/plain": [
       "0    0\n",
       "1    0\n",
       "2    0\n",
       "3    1\n",
       "4    0\n",
       "Name: HadDepressiveDisorder, dtype: category\n",
       "Categories (2, int64): [0, 1]"
      ]
     },
     "execution_count": 115,
     "metadata": {},
     "output_type": "execute_result"
    }
   ],
   "source": [
    "y.head()"
   ]
  },
  {
   "cell_type": "markdown",
   "id": "94b4204b-5e9b-48e0-bce1-6b9e5c5fe2fe",
   "metadata": {},
   "source": [
    "## Data Normalization / Standardization"
   ]
  },
  {
   "cell_type": "code",
   "execution_count": 116,
   "id": "e16dc24e-585a-4de1-9702-9fabaf20f65d",
   "metadata": {},
   "outputs": [],
   "source": [
    "from sklearn.preprocessing import StandardScaler\n",
    "# Creating a Scaler Object\n",
    "scaler = StandardScaler()\n",
    "\n",
    "# Fitting the Scaler into the Dataset and Data Transformation\n",
    "X_scaled = scaler.fit_transform(X)"
   ]
  },
  {
   "cell_type": "code",
   "execution_count": 117,
   "id": "5bec48cc-d110-46f8-ac48-c794d4495252",
   "metadata": {},
   "outputs": [
    {
     "name": "stdout",
     "output_type": "stream",
     "text": [
      "[[-0.96171154  0.5902691   0.5347264  ... -1.1054953  -0.72330312\n",
      "  -0.63265708]\n",
      " [ 1.03981283  0.5902691   0.5347264  ... -1.1054953  -0.72330312\n",
      "  -0.63265708]\n",
      " [ 1.03981283  0.5902691  -1.87011526 ...  0.90457191 -0.72330312\n",
      "   1.58063512]\n",
      " ...\n",
      " [ 1.03981283 -1.09595359  0.5347264  ...  0.90457191  1.38254622\n",
      "   1.58063512]\n",
      " [-0.96171154  1.43338044  0.5347264  ... -1.1054953   1.38254622\n",
      "  -0.63265708]\n",
      " [ 1.03981283  0.5902691  -1.87011526 ... -1.1054953   1.38254622\n",
      "   1.58063512]]\n"
     ]
    }
   ],
   "source": [
    "print(X_scaled)"
   ]
  },
  {
   "cell_type": "markdown",
   "id": "b68ef08f-6608-4b69-b2f7-b4617a0cc1ec",
   "metadata": {},
   "source": [
    "## Data Splitting\n",
    "Splitting the dataset into training data (to train machine for predicting value of target) and test data (to check the accuracy of the prediction of the model) by a ratio of 80%:20% of the main dataset."
   ]
  },
  {
   "cell_type": "code",
   "execution_count": 118,
   "id": "8dff98e3-cf37-4e31-976b-b6a888ec5c20",
   "metadata": {},
   "outputs": [],
   "source": [
    "from sklearn.model_selection import train_test_split\n",
    "X_train, X_test, y_train, y_test = train_test_split(X_scaled, y, test_size = 0.20, random_state=42, stratify = y)"
   ]
  },
  {
   "cell_type": "markdown",
   "id": "be8979a2-ccb8-442c-9fc2-090a7efef7af",
   "metadata": {},
   "source": [
    "## Tarining the Model"
   ]
  },
  {
   "cell_type": "code",
   "execution_count": 119,
   "id": "42ed7f29-3b73-46a9-8717-d8df120bf0f3",
   "metadata": {},
   "outputs": [],
   "source": [
    "from sklearn.linear_model import LogisticRegression\n",
    "\n",
    "# Creating the logistic model\n",
    "lr = LogisticRegression()\n",
    "\n",
    "# Training the model on training data\n",
    "lr.fit(X_train, y_train)\n",
    "\n",
    "# Predict the target variable using test predictors\n",
    "y_predict = lr.predict(X_test)"
   ]
  },
  {
   "cell_type": "code",
   "execution_count": 120,
   "id": "46f1c47a-0177-48a7-bad7-0d58252dd181",
   "metadata": {},
   "outputs": [
    {
     "data": {
      "text/plain": [
       "array([0, 0, 0, ..., 0, 0, 0], dtype=int64)"
      ]
     },
     "execution_count": 120,
     "metadata": {},
     "output_type": "execute_result"
    }
   ],
   "source": [
    "y_predict # Printing the predicted target values"
   ]
  },
  {
   "cell_type": "markdown",
   "id": "e93c63fa-8498-45c6-9022-8ae8bcd6c546",
   "metadata": {},
   "source": [
    "## Calculating the Accuracy of the Model"
   ]
  },
  {
   "cell_type": "code",
   "execution_count": 121,
   "id": "6cba3325-a34c-4b96-a0e7-2075e565ca4e",
   "metadata": {},
   "outputs": [
    {
     "name": "stdout",
     "output_type": "stream",
     "text": [
      "Accuracy:  0.81\n"
     ]
    }
   ],
   "source": [
    "from sklearn.metrics import accuracy_score\n",
    "accuracy = accuracy_score(y_test, y_predict)\n",
    "print(f\"Accuracy: {accuracy: .2f}\")"
   ]
  },
  {
   "cell_type": "markdown",
   "id": "5deaafbc-0bfb-4c4f-8cdf-f33bd003f213",
   "metadata": {},
   "source": [
    "This indicates the model can predict the risk of having depressive disorder using the features with an accuarcy of 81%"
   ]
  },
  {
   "cell_type": "markdown",
   "id": "1771b32a-b44d-45a0-ae89-7b1e6170901b",
   "metadata": {},
   "source": [
    "## Final Classification Report"
   ]
  },
  {
   "cell_type": "code",
   "execution_count": 122,
   "id": "d1679555-4eca-4433-95b0-f887006c9e26",
   "metadata": {},
   "outputs": [
    {
     "name": "stdout",
     "output_type": "stream",
     "text": [
      "              precision    recall  f1-score   support\n",
      "\n",
      "           0       0.82      0.98      0.89     39081\n",
      "           1       0.61      0.15      0.24     10124\n",
      "\n",
      "    accuracy                           0.81     49205\n",
      "   macro avg       0.71      0.56      0.56     49205\n",
      "weighted avg       0.77      0.81      0.76     49205\n",
      "\n"
     ]
    }
   ],
   "source": [
    "from sklearn.metrics import classification_report\n",
    "print(classification_report(y_test, y_predict))"
   ]
  },
  {
   "cell_type": "code",
   "execution_count": null,
   "id": "2af6d157-30ab-4a27-875f-219e68c15092",
   "metadata": {},
   "outputs": [],
   "source": []
  }
 ],
 "metadata": {
  "kernelspec": {
   "display_name": "Python 3 (ipykernel)",
   "language": "python",
   "name": "python3"
  },
  "language_info": {
   "codemirror_mode": {
    "name": "ipython",
    "version": 3
   },
   "file_extension": ".py",
   "mimetype": "text/x-python",
   "name": "python",
   "nbconvert_exporter": "python",
   "pygments_lexer": "ipython3",
   "version": "3.11.7"
  }
 },
 "nbformat": 4,
 "nbformat_minor": 5
}
